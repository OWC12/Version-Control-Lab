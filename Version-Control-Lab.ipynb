{
 "cells": [
  {
   "cell_type": "code",
   "execution_count": null,
   "id": "e1566367-afdd-4a93-abf1-5ea67f4252aa",
   "metadata": {},
   "outputs": [
    {
     "name": "stdout",
     "output_type": "stream",
     "text": [
      "What is your name?\n"
     ]
    }
   ],
   "source": [
    "prompt1 = print(\"What is your name?\")\n",
    "name = input(prompt1)\n",
    "prompt2 = print(\"Enter a number\")\n"
   ]
  },
  {
   "cell_type": "code",
   "execution_count": null,
   "id": "48e52e9f-984b-4dbb-a562-dc69875796aa",
   "metadata": {},
   "outputs": [],
   "source": []
  }
 ],
 "metadata": {
  "kernelspec": {
   "display_name": "Python 3 (ipykernel)",
   "language": "python",
   "name": "python3"
  },
  "language_info": {
   "codemirror_mode": {
    "name": "ipython",
    "version": 3
   },
   "file_extension": ".py",
   "mimetype": "text/x-python",
   "name": "python",
   "nbconvert_exporter": "python",
   "pygments_lexer": "ipython3",
   "version": "3.12.4"
  }
 },
 "nbformat": 4,
 "nbformat_minor": 5
}
